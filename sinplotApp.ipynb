{
 "cells": [
  {
   "cell_type": "markdown",
   "id": "corresponding-major",
   "metadata": {},
   "source": [
    "## Sine Web Plot App"
   ]
  },
  {
   "cell_type": "code",
   "execution_count": null,
   "id": "blond-toddler",
   "metadata": {},
   "outputs": [],
   "source": [
    "# Import required libraries, packages and methods\n",
    "import numpy as np\n",
    "import matplotlib.pyplot as plt\n",
    "from ipywidgets import interactive, HBox,Layout,Button,GridspecLayout\n",
    "\n",
    "# set the ggplot style\n",
    "plt.style.use('ggplot')\n",
    "\n",
    "# make the plot zoom-able and resize-able\n",
    "%matplotlib widget\n",
    "\n",
    "# define the sinwave plot function\n",
    "def sinwave(A, f, phi,color):\n",
    "    # set up plot\n",
    "    fig, ax = plt.subplots(figsize=(7,4))\n",
    "    ax.set_ylim([-4, 4])\n",
    "    ax.grid(True)\n",
    "    ax.set_xlabel('X')\n",
    "    ax.set_ylabel('Sine Wave')\n",
    "    ax.set_title('Sine Wave Widget for Interactive Plot')\n",
    "    \n",
    "    fig.canvas.toolbar_position = 'bottom' # set zoom-able and resize-able under the figure\n",
    "    fig.canvas.header_visible = False # Hide the Figure name at the top of the figure\n",
    "    \n",
    "    # generate x values\n",
    "    x = np.linspace(0, 2 * np.pi, 100)\n",
    "    y = A*np.sin(x*f + phi);\n",
    "\n",
    "    ax.plot(x,y,color)\n",
    "    \n",
    "\n",
    "# create color list\n",
    "colors = ['blue', 'red', 'orange']\n",
    "\n",
    "# Create a widget for interative plot\n",
    "widget = interactive(sinwave,A=(0, 4, 0.1),f=(0, 10, 1), phi=(0, 2, 0.5),color=colors)\n",
    "\n",
    "controls = HBox(widget.children[:-1], layout = Layout(flex_flow='column wrap'),width='auto', height='auto')\n",
    "output = widget.children[-1]\n",
    "\n",
    "# Define expanded button function\n",
    "\n",
    "def create_expanded_button(description, button_style):\n",
    "    return Button(description=description, button_style=button_style, layout=Layout(height='auto', width='auto'))\n",
    "\n",
    "# use GridspecLayout to define the widget layout\n",
    "grid = GridspecLayout(17, 6, height='600px')\n",
    "grid[0,:] = create_expanded_button('Sine Web Plot App', 'success')\n",
    "grid[2:15, 0:2] = controls\n",
    "grid[1:16, 2:] = output\n",
    "grid[16,:] = create_expanded_button('\\xa9 2021 Copyright Shouke Wei', 'info')\n",
    "\n",
    "grid"
   ]
  },
  {
   "cell_type": "code",
   "execution_count": null,
   "id": "curious-pierce",
   "metadata": {},
   "outputs": [],
   "source": []
  }
 ],
 "metadata": {
  "kernelspec": {
   "display_name": "Python 3 (ipykernel)",
   "language": "python",
   "name": "python3"
  },
  "language_info": {
   "codemirror_mode": {
    "name": "ipython",
    "version": 3
   },
   "file_extension": ".py",
   "mimetype": "text/x-python",
   "name": "python",
   "nbconvert_exporter": "python",
   "pygments_lexer": "ipython3",
   "version": "3.9.12"
  }
 },
 "nbformat": 4,
 "nbformat_minor": 5
}
